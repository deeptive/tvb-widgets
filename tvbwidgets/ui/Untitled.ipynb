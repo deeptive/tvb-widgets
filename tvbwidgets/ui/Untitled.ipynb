{
 "cells": [
  {
   "cell_type": "code",
   "execution_count": 5,
   "id": "449b59e3-1bfa-4d4b-8c50-d5b905a7a06c",
   "metadata": {},
   "outputs": [
    {
     "name": "stdout",
     "output_type": "stream",
     "text": [
      "2025-04-04 10:38:39,927 - WARNING - tvb.basic.readers - File 'hemispheres' not found in ZIP.\n"
     ]
    },
    {
     "data": {
      "application/vnd.jupyter.widget-view+json": {
       "model_id": "ffa30920d5534d9ebeb3cfb57cfd2c61",
       "version_major": 2,
       "version_minor": 0
      },
      "text/plain": [
       "HBox(children=(CustomMatrixEditor(children=(Output(),)), CustomSpaceTimeEditor(children=(Output(),))), layout=…"
      ]
     },
     "metadata": {},
     "output_type": "display_data"
    }
   ],
   "source": [
    "import ipywidgets as widgets\n",
    "from tvbwidgets.ui.connectivity_matrix_editor_widget import ConnectivityMatrixEditor\n",
    "from tvbwidgets.ui.spacetime_widget import SpaceTimeVisualizerWidget\n",
    "from tvb.datatypes.connectivity import Connectivity\n",
    "\n",
    "# Load connectivity data\n",
    "conn = Connectivity.from_file()\n",
    "conn.configure()\n",
    "\n",
    "class CustomMatrixEditor(widgets.VBox, ConnectivityMatrixEditor):\n",
    "    def __init__(self, connectivity, viewer, **kwargs):\n",
    "        ConnectivityMatrixEditor.__init__(self, connectivity, **kwargs)\n",
    "        widgets.VBox.__init__(self)\n",
    "        self.viewer = viewer\n",
    "        self.children = [widgets.Output()]  # Single output widget\n",
    "        with self.children[0]:\n",
    "            self.display()  # Display the matrix editor\n",
    "\n",
    "    def on_apply_change(self, change):\n",
    "        super().on_apply_change(change)\n",
    "        \n",
    "        # Check if the new values mini_val and maxi_val exist in the class\n",
    "        if hasattr(self, \"mini_val\") and self.mini_val is not None:\n",
    "            self.viewer.update_min_tract_length(self.mini_val)\n",
    "        \n",
    "        if hasattr(self, \"maxi_val\") and self.maxi_val is not None:\n",
    "            self.viewer.update_max_tract_length(self.maxi_val)\n",
    "\n",
    "class CustomSpaceTimeEditor(SpaceTimeVisualizerWidget,widgets.VBox):\n",
    "    def __init__(self, connectivity,custom_matrix ,width=600, height=600):\n",
    "        self.custom_matrix=custom_matrix\n",
    "        SpaceTimeVisualizerWidget.__init__(self,connectivity,width=width,height=height)\n",
    "        widgets.VBox.__init__(self)\n",
    "        self.children=[widgets.Output()]\n",
    "        with self.children[0]:\n",
    "            self.display()\n",
    "            \n",
    "custom_viewer = CustomSpaceTimeEditor(conn,None)\n",
    "custom_matrix = CustomMatrixEditor(conn, viewer=custom_viewer)\n",
    "custom_viewer.custom_matrix=custom_matrix\n",
    "\n",
    "# Create and display widgets side by side\n",
    "display(widgets.HBox(\n",
    "    [custom_matrix, custom_viewer],\n",
    "    layout=widgets.Layout(\n",
    "        width='100%',\n",
    "        justify_content='space-between',\n",
    "        padding='10px',\n",
    "        border='1px solid #eee'\n",
    "    )\n",
    "))\n"
   ]
  },
  {
   "cell_type": "code",
   "execution_count": null,
   "id": "e3bf48fa-5355-456a-879a-aa8a4b2a6fe6",
   "metadata": {},
   "outputs": [],
   "source": []
  }
 ],
 "metadata": {
  "kernelspec": {
   "display_name": "Python 3 (ipykernel)",
   "language": "python",
   "name": "python3"
  },
  "language_info": {
   "codemirror_mode": {
    "name": "ipython",
    "version": 3
   },
   "file_extension": ".py",
   "mimetype": "text/x-python",
   "name": "python",
   "nbconvert_exporter": "python",
   "pygments_lexer": "ipython3",
   "version": "3.12.3"
  }
 },
 "nbformat": 4,
 "nbformat_minor": 5
}
