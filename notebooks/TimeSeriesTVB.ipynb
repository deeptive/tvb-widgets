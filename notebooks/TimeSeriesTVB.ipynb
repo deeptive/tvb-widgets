{
 "cells": [
  {
   "cell_type": "markdown",
   "id": "ca52ec2e-4b7b-40ec-ad61-66a5d94e8f6a",
   "metadata": {},
   "source": [
    "## TVB TimeSeries Widget"
   ]
  },
  {
   "cell_type": "markdown",
   "id": "f200fcab-3a53-40fa-b53d-27f86b10ba12",
   "metadata": {},
   "source": [
    "---"
   ]
  },
  {
   "cell_type": "markdown",
   "id": "02ee8661-0238-4e09-b917-a1751c07cb41",
   "metadata": {
    "tags": []
   },
   "source": [
    "### This notebook is dedicated to showcasing the TimeSeries widget using TVB data"
   ]
  },
  {
   "cell_type": "markdown",
   "id": "b69dc696-6b9a-4684-b094-639f071a878e",
   "metadata": {},
   "source": [
    "### A. Generate data with command line interface and plot it"
   ]
  },
  {
   "cell_type": "markdown",
   "id": "c20c5032-3deb-4ceb-a7fc-cdc4abd67335",
   "metadata": {},
   "source": [
    "### Intial setup"
   ]
  },
  {
   "cell_type": "code",
   "execution_count": null,
   "id": "6a1a6af4-02e3-4fbc-b48b-fa4fb30b1487",
   "metadata": {},
   "outputs": [],
   "source": [
    "%load_ext autoreload\n",
    "%autoreload 2\n",
    "%matplotlib widget"
   ]
  },
  {
   "cell_type": "code",
   "execution_count": null,
   "id": "1906b6e6-ab82-4322-986b-d97471136d28",
   "metadata": {
    "scrolled": true,
    "tags": []
   },
   "outputs": [],
   "source": [
    "from tvb.simulator.lab import connectivity\n",
    "from tvbwidgets.api import plot_timeseries"
   ]
  },
  {
   "cell_type": "markdown",
   "id": "82f0bc2c-c8da-405b-b7a3-1aaafea6b907",
   "metadata": {
    "tags": []
   },
   "source": [
    "### Generate TVB data"
   ]
  },
  {
   "cell_type": "markdown",
   "id": "9720d378-d94f-481d-b16f-5bc9958ef532",
   "metadata": {
    "tags": []
   },
   "source": [
    " #### 1 --  This TS has only 1 state variable and 1 mode:"
   ]
  },
  {
   "cell_type": "code",
   "execution_count": null,
   "id": "dab6b019-87d9-4ace-8110-8915a178f379",
   "metadata": {
    "scrolled": true,
    "tags": []
   },
   "outputs": [],
   "source": [
    "from tvbwidgets.tests.ts.ts_generator import generate_ts_with_stimulus\n",
    "tsr1 = generate_ts_with_stimulus(conn=connectivity.Connectivity.from_file())\n",
    "tsr1"
   ]
  },
  {
   "cell_type": "markdown",
   "id": "cd112fff-4777-475e-8365-cdc4a1ed5e40",
   "metadata": {},
   "source": [
    "#### 2 -- Generate TVB TS data with more modes:"
   ]
  },
  {
   "cell_type": "code",
   "execution_count": null,
   "id": "2936d8f7-17f2-43ad-9fde-054b6ce33e7b",
   "metadata": {
    "scrolled": true,
    "tags": []
   },
   "outputs": [],
   "source": [
    "from tvbwidgets.tests.ts.ts_generator import generate_ts_with_mode_and_sv\n",
    "tsr2 = generate_ts_with_mode_and_sv(conn=connectivity.Connectivity.from_file())\n",
    "tsr2"
   ]
  },
  {
   "cell_type": "markdown",
   "id": "4dc8c3b8-a188-4e96-98c0-c8fa639991b6",
   "metadata": {},
   "source": [
    "### Plot data using our TS widget"
   ]
  },
  {
   "cell_type": "code",
   "execution_count": null,
   "id": "1b476a1d-c8b0-4556-ba00-3b1a654283ea",
   "metadata": {},
   "outputs": [],
   "source": [
    "backend = 'plotly' # change to 'matplotlib' to see the other TS widget"
   ]
  },
  {
   "cell_type": "code",
   "execution_count": null,
   "id": "a41608e7-f0f6-4bb2-a44d-7a21a24370fd",
   "metadata": {},
   "outputs": [],
   "source": [
    "plot_timeseries(data=tsr2, backend=backend)"
   ]
  },
  {
   "cell_type": "markdown",
   "id": "c0d4cca0-cf36-4bb0-8559-daf16d665f21",
   "metadata": {},
   "source": [
    "### B. Loading data from Drive with GUI"
   ]
  },
  {
   "cell_type": "code",
   "execution_count": null,
   "id": "59e380bb-4f56-4e6b-a447-f0314021c59c",
   "metadata": {},
   "outputs": [],
   "source": [
    "%load_ext autoreload\n",
    "%autoreload 2\n",
    "%matplotlib widget"
   ]
  },
  {
   "cell_type": "code",
   "execution_count": null,
   "id": "2057f6d9-9c6a-4056-b11c-252aac8fd8bb",
   "metadata": {},
   "outputs": [],
   "source": [
    "from tvbwidgets.api import TimeSeriesBrowser\n",
    "from IPython.display import display\n",
    "\n",
    "tsb = TimeSeriesBrowser()\n",
    "display(tsb)"
   ]
  },
  {
   "cell_type": "code",
   "execution_count": null,
   "id": "d3a113ce-7554-4df1-b051-0691721de449",
   "metadata": {},
   "outputs": [],
   "source": []
  }
 ],
 "metadata": {
  "kernelspec": {
   "display_name": "Python 3 (ipykernel)",
   "language": "python",
   "name": "python3"
  },
  "language_info": {
   "codemirror_mode": {
    "name": "ipython",
    "version": 3
   },
   "file_extension": ".py",
   "mimetype": "text/x-python",
   "name": "python",
   "nbconvert_exporter": "python",
   "pygments_lexer": "ipython3",
   "version": "3.8.16"
  }
 },
 "nbformat": 4,
 "nbformat_minor": 5
}
