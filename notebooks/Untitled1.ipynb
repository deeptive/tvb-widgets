{
 "cells": [
  {
   "cell_type": "code",
   "execution_count": 2,
   "id": "e9c95653-c78a-43ce-8c02-29a80e5afe0e",
   "metadata": {},
   "outputs": [
    {
     "name": "stdout",
     "output_type": "stream",
     "text": [
      "2025-04-05 06:35:43,891 - WARNING - tvb.basic.readers - File 'hemispheres' not found in ZIP.\n"
     ]
    },
    {
     "data": {
      "application/vnd.jupyter.widget-view+json": {
       "model_id": "9afbff2eeb6949348949b4657ef58141",
       "version_major": 2,
       "version_minor": 0
      },
      "text/plain": [
       "CustomSpaceTimeEditor(children=(Output(), HTML(value='<br>\\n            <div style=\"line-height:1px;\">\\n      …"
      ]
     },
     "metadata": {},
     "output_type": "display_data"
    },
    {
     "data": {
      "application/vnd.jupyter.widget-view+json": {
       "model_id": "2e53914f42834ab9a0d5d88e038f19f0",
       "version_major": 2,
       "version_minor": 0
      },
      "text/plain": [
       "CustomMatrixEditor(children=(Output(),))"
      ]
     },
     "metadata": {},
     "output_type": "display_data"
    }
   ],
   "source": [
    "import ipywidgets as widgets\n",
    "from IPython.display import display, HTML\n",
    "from tvbwidgets.ui.connectivity_matrix_editor_widget import ConnectivityMatrixEditor\n",
    "from tvbwidgets.ui.spacetime_widget import SpaceTimeVisualizerWidget\n",
    "from tvb.datatypes.connectivity import Connectivity\n",
    "from ipywidgets import HTML\n",
    "import numpy as np\n",
    "\n",
    "\n",
    "# Load connectivity data\n",
    "conn = Connectivity.from_file()\n",
    "conn.configure()\n",
    "\n",
    "\n",
    "# ---- Custom SpaceTime Visualizer ----\n",
    "class CustomSpaceTimeEditor(SpaceTimeVisualizerWidget, widgets.VBox):\n",
    "    def __init__(self, connectivity, width=600, height=600):\n",
    "        SpaceTimeVisualizerWidget.__init__(self, connectivity, width=width, height=height)\n",
    "        widgets.VBox.__init__(self)\n",
    "\n",
    "        self.conduction_speed = self.options.children[0].value\n",
    "        self.update_plot_details = HTML(\n",
    "            value=self.update_generate_details(connectivity.tract_lengths.max()),\n",
    "            layout=self.DEFAULT_BORDER\n",
    "        )\n",
    "\n",
    "        self.children = [widgets.Output(), self.update_plot_details]\n",
    "\n",
    "        with self.children[0]:\n",
    "            self.display()\n",
    "\n",
    "    def on_update_tract_length(self, new_max_tract_length,new_min_tract_length):\n",
    "        self.graphs_matplotlib.clear_output(wait=True)\n",
    "        self.conduction_speed = self.options.children[0].value\n",
    "\n",
    "        # Update slider limits\n",
    "        self.options.children[1].max = new_max_tract_length / self.conduction_speed\n",
    "        self.options.children[2].max = new_max_tract_length / self.conduction_speed\n",
    "        self.options.children[1].min = new_min_tract_length / self.conduction_speed\n",
    "        self.options.children[2].min = new_min_tract_length / self.conduction_speed\n",
    "        self.options.children[1].value = self.options.children[1].min\n",
    "        self.options.children[2].value = self.options.children[2].max\n",
    "        self.from_time = self.options.children[1].value\n",
    "        self.to_time = self.options.children[2].value\n",
    "\n",
    "        # Update plot detail text\n",
    "        self.update_plot_details.value = self.update_generate_details(new_max_tract_length)\n",
    "\n",
    "        # Redraw all slices\n",
    "        for i in range(len(self.graph_slices)):\n",
    "            connectivity = self._prepare_connectivity(i)\n",
    "            data = self._generate_colors(connectivity)\n",
    "            self.graph_slices[i].material.map.data = np.fliplr(data)\n",
    "            self.ims[i].imshow(data)\n",
    "\n",
    "        with self.graphs_matplotlib:\n",
    "            display(self.fig)\n",
    "\n",
    "    def update_generate_details(self, new_max_tract_length):\n",
    "        return f\"\"\"<br>\n",
    "            <div style=\"line-height:1px;\">\n",
    "            <br><h3>PLOT DETAILS</h3> <br><br>\n",
    "            <h4>Conduction Speed:</h4><br> \n",
    "            {self.conduction_speed} mm/ms<br>\n",
    "            <h4>Min (non-zero) Delay:</h4><br>\n",
    "            {np.min(self.connectivity.tract_lengths[np.nonzero(self.connectivity.tract_lengths)]) / self.conduction_speed:.2f} ms<br>\n",
    "            <h4>Max Delay:</h4><br>\n",
    "            {new_max_tract_length / self.conduction_speed:.2f} ms<br>\n",
    "            <h4>Min (non-zero) Tract Length:</h4><br>\n",
    "            {np.min(self.connectivity.tract_lengths[np.nonzero(self.connectivity.tract_lengths)])} mm<br>\n",
    "            <h4>Max Tract Length:</h4><br>\n",
    "            {new_max_tract_length} mm<br>\n",
    "            <h4>Min (non-zero) Weight:</h4><br>\n",
    "            {np.min(self.connectivity.weights[np.nonzero(self.connectivity.weights)])}<br>\n",
    "            <h4>Max Weight:</h4><br>\n",
    "            {np.max(self.connectivity.weights)}<br><br></div>\"\"\"\n",
    "\n",
    "\n",
    "# ---- Custom Connectivity Editor ----\n",
    "class CustomMatrixEditor(widgets.VBox, ConnectivityMatrixEditor):\n",
    "    def __init__(self, connectivity, viewer, **kwargs):\n",
    "        ConnectivityMatrixEditor.__init__(self, connectivity, **kwargs)\n",
    "        widgets.VBox.__init__(self)\n",
    "        self.viewer = viewer\n",
    "        self.children = [widgets.Output()]\n",
    "        with self.children[0]:\n",
    "            self.display()\n",
    "\n",
    "        # Optional: Add reset button (uncomment below to activate)\n",
    "        # self.reset_button = widgets.Button(description=\"Reset\")\n",
    "        # self.reset_button.on_click(self.reset_matrix)\n",
    "        # self.children += [self.reset_button]\n",
    "\n",
    "    def on_apply_change(self, change):\n",
    "        super().on_apply_change(change)\n",
    "        if hasattr(self, \"new_max_tract_length\") and self.new_max_tract_length is not None:\n",
    "            self.viewer.on_update_tract_length(self.new_max_tract_length,self.new_min_tract_length)\n",
    "        if hasattr(self,\"new_min_tract_length\") and self.new_min_tract_length is not None:\n",
    "            self.viewer.on_update_tract_length(self.new_max_tract_length,self.new_min_tract_length)\n",
    "\n",
    "    # Optional: Reset method if needed\n",
    "    # def reset_matrix(self, _):\n",
    "    #     self.connectivity = Connectivity.from_file()\n",
    "    #     self.connectivity.configure()\n",
    "    #     self.viewer.connectivity = self.connectivity\n",
    "    #     self.new_max_tract_length = self.connectivity.tract_lengths.max()\n",
    "    #     self.viewer.on_update_max_tract_length(self.new_max_tract_length)\n",
    "    #     self.display()  # redisplay the matrix\n",
    "\n",
    "\n",
    "# ---- Instantiate and Display ----\n",
    "viewer = CustomSpaceTimeEditor(connectivity=conn)\n",
    "editor = CustomMatrixEditor(connectivity=conn, viewer=viewer)\n",
    "\n",
    "display(viewer)\n",
    "display(editor)\n"
   ]
  },
  {
   "cell_type": "code",
   "execution_count": null,
   "id": "e1a58f9b-173c-4c30-91d1-2384dd611f50",
   "metadata": {},
   "outputs": [],
   "source": []
  }
 ],
 "metadata": {
  "kernelspec": {
   "display_name": "Python 3 (ipykernel)",
   "language": "python",
   "name": "python3"
  },
  "language_info": {
   "codemirror_mode": {
    "name": "ipython",
    "version": 3
   },
   "file_extension": ".py",
   "mimetype": "text/x-python",
   "name": "python",
   "nbconvert_exporter": "python",
   "pygments_lexer": "ipython3",
   "version": "3.12.3"
  }
 },
 "nbformat": 4,
 "nbformat_minor": 5
}
