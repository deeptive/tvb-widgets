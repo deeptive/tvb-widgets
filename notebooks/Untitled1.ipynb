{
 "cells": [
  {
   "cell_type": "code",
   "execution_count": 1,
   "id": "449dd9e4-4b8f-4431-8532-01c208de0cb2",
   "metadata": {},
   "outputs": [
    {
     "name": "stdout",
     "output_type": "stream",
     "text": [
      "31-03-2025 11:11:58 - INFO - tvbwidgets - Version: 2.2.1\n",
      "Using matplotlib as 2D backend.\n",
      "2025-03-31 11:12:10,190 - INFO - tvb.storage.h5.encryption.data_encryption_handler - Cannot import syncrypto library.\n",
      "31-03-2025 11:12:11 - INFO - tvbwidgets.core.pse.parameters - ImportError: Dask dependency is not included, so this functionality won't be available\n",
      "2025-03-31 11:12:11,057 - WARNING - tvb.basic.readers - File 'hemispheres' not found in ZIP.\n",
      "Custom Viewer Initialized\n"
     ]
    },
    {
     "data": {
      "application/vnd.jupyter.widget-view+json": {
       "model_id": "1476fbf97dfe4d29a40459703d205f87",
       "version_major": 2,
       "version_minor": 0
      },
      "text/plain": [
       "HBox(children=(CustomMatrixEditor(children=(Output(),)), CustomViewer(children=(VBox(children=(HTML(value='<h1…"
      ]
     },
     "metadata": {},
     "output_type": "display_data"
    }
   ],
   "source": [
    "import ipywidgets as widgets\n",
    "from IPython.display import display\n",
    "from tvbwidgets.ui.connectivity_matrix_editor_widget import ConnectivityMatrixEditor\n",
    "from tvbwidgets.api import ConnectivityWidget\n",
    "from tvb.datatypes.connectivity import Connectivity\n",
    "\n",
    "# 1. Load connectivity\n",
    "conn = Connectivity().from_file()\n",
    "conn.configure()\n",
    "\n",
    "# 2. Create custom widgets\n",
    "class CustomMatrixEditor(widgets.VBox, ConnectivityMatrixEditor):\n",
    "    def __init__(self, connectivity,viewer, **kwargs):\n",
    "        ConnectivityMatrixEditor.__init__(self, connectivity, **kwargs)  # Initialize TVB Widget\n",
    "        widgets.VBox.__init__(self)  # Initialize ipywidget\n",
    "        self.viewer = viewer\n",
    "        self.output = widgets.Output()\n",
    "        with self.output:\n",
    "            print(\"Custom Matrix Editor Initialized\")\n",
    "            self.display()  # TVB Widget needs explicit display()\n",
    "        self.children = [self.output]  # Add wrapped output to VBox\n",
    "    def on_cell_clicked(self,x,y,matrix_name):\n",
    "        super().on_cell_clicked(x,y,matrix_name)\n",
    "        if hasattr(self.viewer,\"higlight_centres\"):\n",
    "            self.viewer.highlight_centres(self.selected_centres)\n",
    "\n",
    "class CustomViewer(ConnectivityWidget):  \n",
    "    def __init__(self, connectivity, width=600, height=600):\n",
    "        super().__init__(connectivity, default_active_tab='viewers', width=width, height=height)\n",
    "        print(\"Custom Viewer Initialized\")\n",
    "\n",
    "    def highlight_centres(self,selected_centres):\n",
    "        print(f\"Highlight centres:{selected_centres}\")\n",
    "\n",
    "    def custom_display(self):\n",
    "        print(\"Displaying Custom Viewer\")\n",
    "        display(self)  # Display the inherited widget\n",
    "\n",
    "# 3. Initialize Widgets\n",
    "custom_viewer = CustomViewer(conn, width=600, height=600)\n",
    "custom_matrix_editor = CustomMatrixEditor(conn,viewer=custom_viewer)\n",
    "\n",
    "\n",
    "# 4. Display both widgets side by side\n",
    "side_by_side = widgets.HBox(\n",
    "    [custom_matrix_editor, custom_viewer],  \n",
    "    layout=widgets.Layout(\n",
    "        width='100%',\n",
    "        justify_content='space-between',\n",
    "        padding='10px',\n",
    "        border='1px solid #eee'\n",
    "    )\n",
    ")\n",
    "\n",
    "display(side_by_side)\n"
   ]
  },
  {
   "cell_type": "code",
   "execution_count": null,
   "id": "62d29cd5-5c94-4394-814e-9dd8e0cdc28f",
   "metadata": {},
   "outputs": [],
   "source": []
  }
 ],
 "metadata": {
  "kernelspec": {
   "display_name": "Python 3 (ipykernel)",
   "language": "python",
   "name": "python3"
  },
  "language_info": {
   "codemirror_mode": {
    "name": "ipython",
    "version": 3
   },
   "file_extension": ".py",
   "mimetype": "text/x-python",
   "name": "python",
   "nbconvert_exporter": "python",
   "pygments_lexer": "ipython3",
   "version": "3.12.3"
  }
 },
 "nbformat": 4,
 "nbformat_minor": 5
}
