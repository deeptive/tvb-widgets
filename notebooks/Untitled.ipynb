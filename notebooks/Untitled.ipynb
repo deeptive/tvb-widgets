{
 "cells": [
  {
   "cell_type": "code",
   "execution_count": 1,
   "id": "50134ef5-c3a0-427b-8e9d-19104d1287ca",
   "metadata": {
    "scrolled": true
   },
   "outputs": [
    {
     "name": "stdout",
     "output_type": "stream",
     "text": [
      "31-03-2025 09:50:04 - INFO - tvbwidgets - Version: 2.2.1\n",
      "Using matplotlib as 2D backend.\n",
      "2025-03-31 09:50:25,021 - INFO - tvb.storage.h5.encryption.data_encryption_handler - Cannot import syncrypto library.\n",
      "31-03-2025 09:50:26 - INFO - tvbwidgets.core.pse.parameters - ImportError: Dask dependency is not included, so this functionality won't be available\n",
      "2025-03-31 09:50:26,089 - WARNING - tvb.basic.readers - File 'hemispheres' not found in ZIP.\n"
     ]
    },
    {
     "data": {
      "application/vnd.jupyter.widget-view+json": {
       "model_id": "4a9b8d727f8a43efb37b404d8ce27df5",
       "version_major": 2,
       "version_minor": 0
      },
      "text/plain": [
       "HBox(children=(MatrixContainer(children=(Output(),)), ViewerContainer(children=(Output(),))), layout=Layout(bo…"
      ]
     },
     "metadata": {},
     "output_type": "display_data"
    }
   ],
   "source": [
    "import ipywidgets as widgets\n",
    "from IPython.display import display\n",
    "from tvbwidgets.ui.connectivity_matrix_editor_widget import ConnectivityMatrixEditor\n",
    "from tvbwidgets.api import ConnectivityWidget\n",
    "from tvb.datatypes.connectivity import Connectivity\n",
    "\n",
    "# 1. Load connectivity\n",
    "conn = Connectivity().from_file()\n",
    "conn.configure()\n",
    "\n",
    "# 2. Create widgets\n",
    "widm = ConnectivityMatrixEditor(conn, size=None)\n",
    "widv = ConnectivityWidget(conn, default_active_tab='viewers', width=600, height=600)\n",
    "\n",
    "# 3. Create custom containers that respect each widget's display logic\n",
    "class MatrixContainer(widgets.VBox):\n",
    "    def __init__(self, matrix_editor):\n",
    "        super().__init__()\n",
    "        self.matrix_editor = matrix_editor\n",
    "        self.children = [widgets.Output()]\n",
    "        with self.children[0]:\n",
    "            matrix_editor.display()  # Use the widget's custom display method\n",
    "        \n",
    "        \n",
    "\n",
    "class ViewerContainer(widgets.VBox):\n",
    "    def __init__(self, viewer_widget):\n",
    "        super().__init__()\n",
    "        self.viewer_widget = viewer_widget\n",
    "        \n",
    "        self.children = [widgets.Output()]\n",
    "        with self.children[0]:\n",
    "            display(viewer_widget)  # Standard display for ConnectivityWidget\n",
    "        \n",
    "\n",
    "# 4. Create our specialized containers\n",
    "matrix_container = MatrixContainer(widm)\n",
    "viewer_container = ViewerContainer(widv)\n",
    "\n",
    "# 5. Create side-by-side layout\n",
    "side_by_side = widgets.HBox(\n",
    "    [matrix_container, viewer_container],\n",
    "    layout=widgets.Layout(\n",
    "        width='100%',\n",
    "        justify_content='space-between',\n",
    "        padding='10px',\n",
    "        border='1px solid #eee'\n",
    "    )\n",
    ")\n",
    "\n",
    "# 6. Display\n",
    "display(side_by_side)"
   ]
  },
  {
   "cell_type": "code",
   "execution_count": null,
   "id": "a2d08682-75b9-48db-83e4-b73e5a557624",
   "metadata": {},
   "outputs": [],
   "source": []
  }
 ],
 "metadata": {
  "kernelspec": {
   "display_name": "Python 3 (ipykernel)",
   "language": "python",
   "name": "python3"
  },
  "language_info": {
   "codemirror_mode": {
    "name": "ipython",
    "version": 3
   },
   "file_extension": ".py",
   "mimetype": "text/x-python",
   "name": "python",
   "nbconvert_exporter": "python",
   "pygments_lexer": "ipython3",
   "version": "3.12.3"
  }
 },
 "nbformat": 4,
 "nbformat_minor": 5
}
