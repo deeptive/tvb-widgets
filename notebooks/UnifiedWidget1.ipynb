{
 "cells": [
  {
   "cell_type": "code",
   "execution_count": 1,
   "id": "f5e7b6e4-81b3-40f8-810b-1b82a31ec00f",
   "metadata": {},
   "outputs": [
    {
     "name": "stdout",
     "output_type": "stream",
     "text": [
      "02-04-2025 08:13:45 - INFO - tvbwidgets - Version: 2.2.1\n",
      "Using matplotlib as 2D backend.\n",
      "2025-04-02 20:14:11,851 - INFO - tvb.storage.h5.encryption.data_encryption_handler - Cannot import syncrypto library.\n",
      "02-04-2025 08:14:12 - INFO - tvbwidgets.core.pse.parameters - ImportError: Dask dependency is not included, so this functionality won't be available\n",
      "2025-04-02 20:14:13,020 - WARNING - tvb.basic.readers - File 'hemispheres' not found in ZIP.\n"
     ]
    },
    {
     "data": {
      "application/vnd.jupyter.widget-view+json": {
       "model_id": "8ba7eae963b14b0b9716bd6c58dbf72e",
       "version_major": 2,
       "version_minor": 0
      },
      "text/plain": [
       "HBox(children=(CustomMatrixEditor(children=(Output(),)), CustomViewer(children=(VBox(children=(HTML(value='<h1…"
      ]
     },
     "metadata": {},
     "output_type": "display_data"
    }
   ],
   "source": [
    "import ipywidgets as widgets\n",
    "import pyvista\n",
    "import numpy as np\n",
    "from IPython.display import display, clear_output\n",
    "from tvbwidgets.ui.connectivity_matrix_editor_widget import ConnectivityMatrixEditor\n",
    "from tvbwidgets.api import ConnectivityWidget\n",
    "from tvb.datatypes.connectivity import Connectivity\n",
    "\n",
    "# 1. Load connectivity\n",
    "conn = Connectivity().from_file()\n",
    "conn.configure()\n",
    "\n",
    "# 2. Create custom widgets\n",
    "class CustomMatrixEditor(widgets.VBox, ConnectivityMatrixEditor):\n",
    "    def __init__(self, connectivity, viewer, **kwargs):\n",
    "        ConnectivityMatrixEditor.__init__(self, connectivity, **kwargs)  # Initialize TVB Widget\n",
    "        widgets.VBox.__init__(self)  # Initialize ipywidget\n",
    "        self.viewer = viewer\n",
    "        self.output = widgets.Output()\n",
    "        \n",
    "        with self.output:\n",
    "            self.display()  # TVB Widget needs explicit display()\n",
    "        \n",
    "        self.children = [self.output]  # Add wrapped output to VBox\n",
    "\n",
    "    def on_cell_clicked(self, x, y, matrix_name):\n",
    "        super().on_cell_clicked(x, y, matrix_name)\n",
    "        if hasattr(self.viewer, \"highlight_centres\"):\n",
    "            self.viewer.highlight_centres(self.selected_centres)\n",
    "\n",
    "class CustomViewer(ConnectivityWidget):  \n",
    "    def __init__(self, connectivity, width=600, height=600):\n",
    "        super().__init__(connectivity, default_active_tab='viewers', width=width, height=height)\n",
    "        self.highlight_output = widgets.Output()  # Output widget to show highlights\n",
    "        self.children = list(self.children) + [self.highlight_output]  # Add it to children\n",
    "    \n",
    "    def highlight_centres(self, selected_centres):\n",
    "        with self.highlight_output: \n",
    "            clear_output(wait=True)\n",
    "            connectivity_3d_viewer = self.viewers_tab.children[1]\n",
    "            if hasattr(connectivity_3d_viewer, \"output\"):\n",
    "              plotter = connectivity_3d_viewer.output.plotter\n",
    "              if hasattr(self,\"highlight_actor\") and self.highlight_actor: \n",
    "                  plotter.remove_actor(self.highlight_actor, reset_camera=False)\n",
    "              points = np.array(selected_centres)\n",
    "              mesh_points=pyvista.PolyData(points)  \n",
    "              points_size=connectivity_3d_viewer.output.CONFIG.point_size + 5\n",
    "              self.highlight_actor=plotter.add_points(mesh_points,color=\"red\",point_size=points_size)\n",
    "              connectivity_3d_viewer.output.update_plot()\n",
    "\n",
    "    def custom_display(self):\n",
    "        display(self)  # Display the inherited widget\n",
    "\n",
    "# 3. Initialize Widgets\n",
    "custom_viewer = CustomViewer(conn, width=600, height=600)\n",
    "custom_matrix_editor = CustomMatrixEditor(conn, viewer=custom_viewer)\n",
    "\n",
    "# 4. Display both widgets side by side\n",
    "side_by_side = widgets.HBox(\n",
    "    [custom_matrix_editor, custom_viewer],  \n",
    "    layout=widgets.Layout(\n",
    "        width='100%',\n",
    "        justify_content='space-between',\n",
    "        padding='10px',\n",
    "        border='1px solid #eee'\n",
    "    )\n",
    ")\n",
    "\n",
    "display(side_by_side)\n"
   ]
  },
  {
   "cell_type": "code",
   "execution_count": null,
   "id": "0018af5b-37f3-4be0-b4c8-4df8fbf6bf12",
   "metadata": {},
   "outputs": [],
   "source": []
  }
 ],
 "metadata": {
  "kernelspec": {
   "display_name": "Python 3 (ipykernel)",
   "language": "python",
   "name": "python3"
  },
  "language_info": {
   "codemirror_mode": {
    "name": "ipython",
    "version": 3
   },
   "file_extension": ".py",
   "mimetype": "text/x-python",
   "name": "python",
   "nbconvert_exporter": "python",
   "pygments_lexer": "ipython3",
   "version": "3.12.3"
  }
 },
 "nbformat": 4,
 "nbformat_minor": 5
}
