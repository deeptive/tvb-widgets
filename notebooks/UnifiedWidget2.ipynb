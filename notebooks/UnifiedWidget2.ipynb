{
 "cells": [
  {
   "cell_type": "code",
   "execution_count": 1,
   "id": "d4d71238-bd24-41c6-b605-bb077de54978",
   "metadata": {},
   "outputs": [
    {
     "name": "stdout",
     "output_type": "stream",
     "text": [
      "02-04-2025 04:47:34 - INFO - tvbwidgets - Version: 2.2.1\n",
      "2025-04-02 16:47:38,011 - WARNING - tvb.basic.readers - File 'hemispheres' not found in ZIP.\n"
     ]
    },
    {
     "name": "stderr",
     "output_type": "stream",
     "text": [
      "C:\\Users\\deept\\AppData\\Local\\Programs\\Python\\Python312\\Lib\\site-packages\\pythreejs\\traits.py:257: UserWarning: 64-bit data types not supported for WebGL data, casting to 32-bit.\n",
      "  warnings.warn('64-bit data types not supported for WebGL '\n"
     ]
    },
    {
     "data": {
      "application/vnd.jupyter.widget-view+json": {
       "model_id": "3297487e52ba472c90051fb604a16047",
       "version_major": 2,
       "version_minor": 0
      },
      "text/plain": [
       "HBox(children=(CustomMatrixEditor(children=(Output(),)), CustomSpaceTimeEditor(children=(Output(),))), layout=…"
      ]
     },
     "metadata": {},
     "output_type": "display_data"
    }
   ],
   "source": [
    "import ipywidgets as widgets\n",
    "from tvbwidgets.ui.connectivity_matrix_editor_widget import ConnectivityMatrixEditor\n",
    "from tvbwidgets.ui.spacetime_widget import SpaceTimeVisualizerWidget\n",
    "from tvb.datatypes.connectivity import Connectivity\n",
    "\n",
    "# Load connectivity data\n",
    "conn = Connectivity.from_file()\n",
    "conn.configure()\n",
    "\n",
    "class CustomMatrixEditor(widgets.VBox, ConnectivityMatrixEditor):\n",
    "    def __init__(self, connectivity, **kwargs):\n",
    "        ConnectivityMatrixEditor.__init__(self, connectivity, **kwargs)\n",
    "        widgets.VBox.__init__(self)\n",
    "        self.children = [widgets.Output()]  # Single output widget\n",
    "        with self.children[0]:\n",
    "            self.display()  # Display the matrix editor\n",
    "\n",
    "class CustomSpaceTimeEditor(widgets.VBox):\n",
    "    def __init__(self, connectivity, width=600, height=600):\n",
    "        super().__init__()\n",
    "        self.viewer = SpaceTimeVisualizerWidget(connectivity, width=width, height=height)\n",
    "        self.children = [widgets.Output()]  # Single output widget\n",
    "        with self.children[0]:\n",
    "            self.viewer.display()  # Display the space-time viewer\n",
    "\n",
    "# Create and display widgets side by side\n",
    "display(widgets.HBox(\n",
    "    [CustomMatrixEditor(conn), CustomSpaceTimeEditor(conn)],\n",
    "    layout=widgets.Layout(\n",
    "        width='100%',\n",
    "        justify_content='space-between',\n",
    "        padding='10px',\n",
    "        border='1px solid #eee'\n",
    "    )\n",
    "))"
   ]
  },
  {
   "cell_type": "code",
   "execution_count": null,
   "id": "7cc3030c-720e-4a46-be5b-63fa8dde9561",
   "metadata": {},
   "outputs": [],
   "source": []
  }
 ],
 "metadata": {
  "kernelspec": {
   "display_name": "Python 3 (ipykernel)",
   "language": "python",
   "name": "python3"
  },
  "language_info": {
   "codemirror_mode": {
    "name": "ipython",
    "version": 3
   },
   "file_extension": ".py",
   "mimetype": "text/x-python",
   "name": "python",
   "nbconvert_exporter": "python",
   "pygments_lexer": "ipython3",
   "version": "3.12.3"
  }
 },
 "nbformat": 4,
 "nbformat_minor": 5
}
