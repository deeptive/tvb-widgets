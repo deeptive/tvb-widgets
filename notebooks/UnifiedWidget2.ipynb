{
 "cells": [
  {
   "cell_type": "code",
   "execution_count": 2,
   "id": "b79ceedd-15cb-47a5-ad0b-cfb112ff63bc",
   "metadata": {},
   "outputs": [
    {
     "name": "stdout",
     "output_type": "stream",
     "text": [
      "2025-04-06 04:23:13,005 - WARNING - tvb.basic.readers - File 'hemispheres' not found in ZIP.\n"
     ]
    },
    {
     "data": {
      "application/vnd.jupyter.widget-view+json": {
       "model_id": "d772faada7584a77bac90c4b1471204f",
       "version_major": 2,
       "version_minor": 0
      },
      "text/plain": [
       "CustomSpaceTimeEditor(children=(Output(), HTML(value='<br>\\n            <div style=\"line-height:1px;\">\\n      …"
      ]
     },
     "metadata": {},
     "output_type": "display_data"
    },
    {
     "data": {
      "application/vnd.jupyter.widget-view+json": {
       "model_id": "ea4b2e087c8f4b919f341f3eca1ce03c",
       "version_major": 2,
       "version_minor": 0
      },
      "text/plain": [
       "CustomMatrixEditor(children=(Output(),))"
      ]
     },
     "metadata": {},
     "output_type": "display_data"
    }
   ],
   "source": [
    "import ipywidgets as widgets\n",
    "from IPython.display import display, HTML\n",
    "from ipywidgets import HTML\n",
    "from tvbwidgets.ui.connectivity_matrix_editor_widget import ConnectivityMatrixEditor\n",
    "from tvbwidgets.ui.spacetime_widget import SpaceTimeVisualizerWidget\n",
    "from tvb.datatypes.connectivity import Connectivity\n",
    "import numpy as np\n",
    "\n",
    "# ---- Load connectivity data ----\n",
    "conn = Connectivity.from_file()\n",
    "conn.configure()\n",
    "\n",
    "\n",
    "# ---- Custom SpaceTime widget that updates in-place ----\n",
    "class CustomSpaceTimeEditor(SpaceTimeVisualizerWidget, widgets.VBox):\n",
    "    def __init__(self, connectivity, width=600, height=600):\n",
    "        SpaceTimeVisualizerWidget.__init__(self, connectivity, width=width, height=height)\n",
    "        widgets.VBox.__init__(self)\n",
    "        \n",
    "        self.conduction_speed = self.options.children[0].value\n",
    "        \n",
    "        # Create HTML once and reuse it\n",
    "        self.update_plot_details = HTML(\n",
    "            value=self.update_generate_details(connectivity.tract_lengths.max()),\n",
    "            layout=self.DEFAULT_BORDER\n",
    "        )\n",
    "\n",
    "        # Only use a single plot output and details section\n",
    "        self.children = [widgets.Output(), self.update_plot_details]\n",
    "        with self.children[0]:\n",
    "            self.display()\n",
    "\n",
    "    def on_update_max_tract_length(self, new_max_tract_length):\n",
    "        self.graphs_matplotlib.clear_output(wait=True)\n",
    "\n",
    "        self.conduction_speed = self.options.children[0].value\n",
    "\n",
    "        self.options.children[1].max = new_max_tract_length / self.conduction_speed\n",
    "        self.options.children[2].max = new_max_tract_length / self.conduction_speed\n",
    "\n",
    "        self.options.children[1].min = self.connectivity.tract_lengths.min() / self.conduction_speed\n",
    "        self.options.children[2].min = self.connectivity.tract_lengths.min() / self.conduction_speed\n",
    "\n",
    "        self.options.children[1].value = self.options.children[1].min\n",
    "        self.options.children[2].value = self.options.children[2].max\n",
    "\n",
    "        self.from_time = self.options.children[1].value\n",
    "        self.to_time = self.options.children[2].value\n",
    "\n",
    "        self.refresh_plot_details(new_max_tract_length)\n",
    "\n",
    "        # Update slices\n",
    "        for i in range(len(self.graph_slices)):\n",
    "            connectivity = self._prepare_connectivity(i)\n",
    "            data = self._generate_colors(connectivity)\n",
    "            self.graph_slices[i].material.map.data = np.fliplr(data)\n",
    "            self.ims[i].imshow(data)\n",
    "\n",
    "        with self.graphs_matplotlib:\n",
    "            display(self.fig)\n",
    "\n",
    "    def refresh_plot_details(self, new_max_tract_length):\n",
    "        self.update_plot_details.value = self.update_generate_details(new_max_tract_length)\n",
    "\n",
    "    def update_generate_details(self, new_max_tract_length):\n",
    "        return f\"\"\"<br>\n",
    "            <div style=\"line-height:1px;\">\n",
    "            <br><h3> UPDATED PLOT DETAILS</h3> <br><br>\n",
    "            <h4>conduction speed:</h4><br> \n",
    "            {self.conduction_speed} mm/ms<br>\n",
    "            <h4>min(non-zero)</h4><h4>delay:</h4><br>\n",
    "            {np.min(self.connectivity.tract_lengths[np.nonzero(self.connectivity.tract_lengths)]) / self.conduction_speed:.2f} ms<br>\n",
    "            <h4>max delay:</h4><br>\n",
    "            {new_max_tract_length / self.conduction_speed:.2f} ms<br>\n",
    "            <h4>min(non-zero)</h4><h4>tract length:</h4><br>\n",
    "            {np.min(self.connectivity.tract_lengths[np.nonzero(self.connectivity.tract_lengths)])} mm<br>\n",
    "            <h4>max tract length:</h4><br>\n",
    "            {new_max_tract_length} mm<br>\n",
    "            <h4>min(non-zero)</h4><h4>weight:</h4><br>\n",
    "            {np.min(self.connectivity.weights[np.nonzero(self.connectivity.weights)])}<br>\n",
    "            <h4>max weight:</h4><br>\n",
    "            {np.max(self.connectivity.weights)}<br><br></div>\"\"\"\n",
    "\n",
    "\n",
    "# ---- Custom matrix editor that sends update ----\n",
    "class CustomMatrixEditor(widgets.VBox, ConnectivityMatrixEditor):\n",
    "    def __init__(self, connectivity, viewer, **kwargs):\n",
    "        ConnectivityMatrixEditor.__init__(self, connectivity, **kwargs)\n",
    "        widgets.VBox.__init__(self)\n",
    "        self.viewer = viewer\n",
    "\n",
    "        self.children = [widgets.Output()]\n",
    "        with self.children[0]:\n",
    "            self.display()\n",
    "\n",
    "    def on_apply_change(self, change):\n",
    "        super().on_apply_change(change)\n",
    "        if hasattr(self, \"new_max_tract_length\") and self.new_max_tract_length is not None:\n",
    "            self.viewer.on_update_max_tract_length(self.new_max_tract_length)\n",
    "\n",
    "\n",
    "# ---- Instantiate and display both ----\n",
    "viewer = CustomSpaceTimeEditor(connectivity=conn)\n",
    "editor = CustomMatrixEditor(connectivity=conn, viewer=viewer)\n",
    "\n",
    "display(viewer)\n",
    "display(editor)\n"
   ]
  },
  {
   "cell_type": "code",
   "execution_count": null,
   "id": "1943c38d-f633-417b-9431-7f33f958b47e",
   "metadata": {},
   "outputs": [],
   "source": []
  }
 ],
 "metadata": {
  "kernelspec": {
   "display_name": "Python 3 (ipykernel)",
   "language": "python",
   "name": "python3"
  },
  "language_info": {
   "codemirror_mode": {
    "name": "ipython",
    "version": 3
   },
   "file_extension": ".py",
   "mimetype": "text/x-python",
   "name": "python",
   "nbconvert_exporter": "python",
   "pygments_lexer": "ipython3",
   "version": "3.12.3"
  }
 },
 "nbformat": 4,
 "nbformat_minor": 5
}
