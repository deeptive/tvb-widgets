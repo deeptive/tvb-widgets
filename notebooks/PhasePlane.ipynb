{
 "cells": [
  {
   "cell_type": "markdown",
   "id": "10c2953f-29a8-4767-8a86-3306d3ecdc65",
   "metadata": {},
   "source": [
    "## TVB ShowCase: Phase Plane interactive"
   ]
  },
  {
   "cell_type": "code",
   "execution_count": null,
   "id": "04bc2ecb-fc03-44b8-b009-cb42ac5c7d4c",
   "metadata": {},
   "outputs": [],
   "source": [
    "%load_ext autoreload\n",
    "%autoreload 2\n",
    "%matplotlib widget"
   ]
  },
  {
   "cell_type": "markdown",
   "id": "2675a8ee-a443-4b40-b383-a0db0dc4a976",
   "metadata": {},
   "source": [
    "---"
   ]
  },
  {
   "cell_type": "markdown",
   "id": "9e4b9282-9776-4b05-83f8-817f6a6d567b",
   "metadata": {},
   "source": [
    "### Choose model and start the Phase Plane GUI"
   ]
  },
  {
   "cell_type": "code",
   "execution_count": null,
   "id": "acd78ac4-2703-444f-bb6c-1d7080b6552d",
   "metadata": {},
   "outputs": [],
   "source": [
    "from tvbwidgets.api import PhasePlaneWidget\n",
    "from tvb.simulator.lab import *\n",
    "w = PhasePlaneWidget(model=models.Generic2dOscillator(),\n",
    "                     integrator=integrators.HeunDeterministic())"
   ]
  },
  {
   "cell_type": "code",
   "execution_count": null,
   "id": "c7b13003-65ce-4365-a2e6-d9cdc135b48d",
   "metadata": {},
   "outputs": [],
   "source": [
    "from IPython.display import display\n",
    "#w.TRAJ_STEPS *=10\n",
    "display(w.get_widget(plot_size=(6,7)))"
   ]
  },
  {
   "cell_type": "code",
   "execution_count": null,
   "id": "39bd50eb-074e-4162-be4f-01d9bfc9b1ab",
   "metadata": {},
   "outputs": [],
   "source": [
    "# w.export_model()"
   ]
  },
  {
   "cell_type": "code",
   "execution_count": null,
   "id": "f61424b8-5fda-4382-85e5-b249286c9201",
   "metadata": {},
   "outputs": [],
   "source": []
  }
 ],
 "metadata": {
  "kernelspec": {
   "display_name": "Python 3 (ipykernel)",
   "language": "python",
   "name": "python3"
  },
  "language_info": {
   "codemirror_mode": {
    "name": "ipython",
    "version": 3
   },
   "file_extension": ".py",
   "mimetype": "text/x-python",
   "name": "python",
   "nbconvert_exporter": "python",
   "pygments_lexer": "ipython3",
   "version": "3.9.13"
  }
 },
 "nbformat": 4,
 "nbformat_minor": 5
}
